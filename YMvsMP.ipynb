#install any modules or databases if not installed
# !pip install pymatgen
# !pip install mendeleev
# !pip install pandas
# !pip install matplotlib
# !pip install -U scikit-learn
# !pip install -U numpy

import numpy as np
import pymatgen as pymat
from pymatgen.core.periodic_table import Element
import mendeleev as mendel
import matplotlib.pyplot as plt
from sklearn import datasets , linear_model
from sklearn.metrics import mean_squared_error, r2_score
from random import shuffle
#Model
fcc_elements = ["Ag", "Al", "Au", "Cu", "Ir", "Ni", "Pb", "Pd", "Pt", "Rh", "Th", "Yb"]
bcc_elements = ["Ba", "Cr", "Eu", "Fe", "Li", "Mn", "Mo", "Na", "Nb", "Ta", "V", "W" ]
hcp_elements = ["Be", "Ca", "Cd", "Co", "Dy", "Er", "Gd", "Hf", "Ho", "Lu", "Mg", "Re",
                "Ru", "Sc", "Tb", "Ti", "Tl", "Tm", "Y", "Zn", "Zr"]
others = ["Sb", "Sm", "Bi", "Ce", "Sn", "Si"]

# np.random.seed(42)
elements = fcc_elements + bcc_elements + hcp_elements + others
shuffle(elements)

data_youngs_modulus = []
data_melting_point = []

#importing data from databases 
for item in elements:
    data_youngs_modulus.append(Element(item).youngs_modulus)
for item in elements:
    data_melting_point.append(mendel.element(item).melting_point)

# Directly set the values into list with respect to elements
# data_youngs_modulus = [83.0, 287.0, 78.0, 78.0, 16.0, 121.0, 56.0, 69.0, 74.0, 18.0, 10.0, 50.0, 211.0, 130.0, 79.0, 8.0, 200.0, 47.0, 447.0, 50.0, 108.0, 411.0, 68.0, 329.0, 209.0, 528.0, 20.0, 70.0, 34.0, 61.0, 279.0, 50.0, 55.0, 4.9, 116.0, 70.0, 198.0, 74.0, 463.0, 275.0, 186.0, 65.0, 24.0, 13.0, 55.0, 105.0, 64.0, 128.0, 168.0, 32.0, 45.0]

# data_melting_point = [1235.1, 1551.0, 2503.0, 1337.58, 600.65, 1825.0, 1629.0, 1936.0, 1818.0, 1095.0, 370.96, 1350.0, 1808.0, 1356.6, 2028.0, 576.6, 1726.0, 1683.0, 2583.0, 594.1, 692.73, 3680.0, 2125.0, 2890.0, 1768.0, 2683.0, 1112.0, 933.5, 1072.0, 1685.0, 2130.0, 505.1, 1586.0, 553.69, 1933.0, 1802.0, 1517.0, 1814.0, 3453.0, 2239.0, 3269.0, 1747.0, 1097.0, 1002.0, 903.9, 2741.0, 1795.0, 2160.0, 2045.0, 544.5, 922.0]

# print(data_youngs_modulus)
# print(data_melting_point)

#splitting into training and testing data
#you can use different cross validation technques 
melt_train = data_melting_point[:45]
melt_test = data_melting_point[-6:]
melt_train = np.array(melt_train).reshape(-1,1)
melt_test = np.array(melt_test).reshape(-1,1)

young_train = data_youngs_modulus[:45]
young_test = data_youngs_modulus[-6:]
young_train = np.array(young_train).reshape(-1,1)
young_test = np.array(young_test).reshape(-1,1)

#regression function to learn , fit linear regression and predict for new inputs
def regression(x_train, x_test, y_train, y_test):

    model = linear_model.LinearRegression()
    model.fit(x_train, y_train)

    #Join train + test data
    full_x = np.concatenate((x_train, x_test), axis=0)
    full_y = np.concatenate((y_train, y_test), axis=0)

    # full_x_reshaped = full_x.reshape(-1, 1)
    predictions = model.predict(full_x) # Make it for all values

    print("Linear Equation: %.4e X + (%.4e)"%(model.coef_, model.intercept_))
    print("Mean squared error: %.4e" % (mean_squared_error(full_y, predictions)))
    print('Variance score: %.4f' % r2_score(full_y, predictions))

    return predictions

import plotly
import plotly.graph_objs as go
from plotly.offline import iplot
plotly.offline.init_notebook_mode(connected=True)

#Function to plot the results
def plot(x_train, x_test, y_train, y_test, x_label, y_label, predictions):
    plt.figure(figsize=(10, 6))

    plt.scatter(x_train, y_train, color='green', label='Training Data')
    plt.scatter(x_test, y_test, color='red', label='Testing Data')
    plt.plot(np.concatenate((x_train, x_test), axis=0), predictions, color='blue', linewidth=2, label='Model')

    plt.title('Linear Regression Model')
    plt.xlabel(x_label)
    plt.ylabel(y_label)
    plt.legend()

    plt.show()

predictions = regression(melt_train, melt_test, young_train, young_test)
plot(melt_train, melt_test, young_train, young_test, "Melting Temperature (K)", "Young's Modulus (GPa)", predictions)

